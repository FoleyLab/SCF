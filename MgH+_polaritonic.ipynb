{
 "cells": [
  {
   "cell_type": "code",
   "execution_count": null,
   "metadata": {},
   "outputs": [],
   "source": [
    "\"\"\"Formaldehyde polaritonic potential energy surface\"\"\"\n",
    "\n",
    "__authors__ = [\"Jonathan J. Foley\"]\n",
    "__email__   = [\"foleyj10@wpunj.edu]\n",
    "__credits__ = [\"Daniel G.A. Smith\"]\n",
    "__copyright__ = \"(c) 2008-2020, The Psi4Education Developers\"\n",
    "__license__   = \"BSD-3-Clause\"\n",
    "__date__      = \"2021-01-10\""
   ]
  },
  {
   "cell_type": "markdown",
   "metadata": {},
   "source": [
    "## Polaritonic surfaces of MgH+"
   ]
  },
  {
   "cell_type": "code",
   "execution_count": 1,
   "metadata": {},
   "outputs": [],
   "source": [
    "import psi4\n",
    "import numpy as np\n",
    "from scipy import linalg as splinalg\n",
    "\n",
    "from psi4.driver.procrouting.response.scf_response import tdscf_excitations"
   ]
  },
  {
   "cell_type": "code",
   "execution_count": null,
   "metadata": {},
   "outputs": [
    {
     "name": "stdout",
     "output_type": "stream",
     "text": [
      "1.1 [-200.12835658 -199.8850034  -199.82923906 -199.82923906 -199.69972309]\n",
      "1.2000000000000002 [-200.18371479 -199.94739699 -199.88892028 -199.88892028 -199.75886618]\n",
      "1.3 [-200.21909845 -199.99077106 -199.93036789 -199.93036789 -199.79982795]\n",
      "1.4000000000000001 [-200.24068912 -200.02078599 -199.95902678 -199.95902678 -199.8287337 ]\n",
      "1.5 [-200.25272893 -200.04137215 -199.97868336 -199.97868336 -199.84985234]\n",
      "1.6 [-200.25807961 -200.05516905 -199.99188895 -199.99188895 -199.86597453]\n",
      "1.7000000000000002 [-200.25870407 -200.06395581 -200.00035752 -200.00035752 -199.87880011]\n",
      "1.8000000000000003 [-200.25599563 -200.0689973  -200.00530744 -200.00530744 -199.88930926]\n",
      "1.9000000000000001 [-200.25097277 -200.07123601 -200.00761923 -200.00761923 -199.89805328]\n",
      "2.0 [-200.24439161 -200.07139234 -200.00795006 -200.00795006 -199.90538001]\n",
      "2.1 [-200.23681651 -200.07004194 -200.00680919 -200.00680919 -199.9115687 ]\n",
      "2.2 [-200.22866875 -200.06764264 -200.00459194 -200.00459194 -199.91682783]\n",
      "2.3000000000000003 [-200.22026177 -200.0645675  -200.00160944 -200.00160944 -199.92132727]\n",
      "2.4000000000000004 [-200.21182724 -200.06111258 -199.99810638 -199.99810638 -199.9251885 ]\n",
      "2.5 [-200.20353466 -200.05751961 -199.99427716 -199.99427716 -199.92851877]\n",
      "2.6 [-200.19550615 -200.05397803 -199.99027343 -199.99027343 -199.93140139]\n",
      "2.7 [-200.18782752 -200.05063435 -199.98621317 -199.98621317 -199.93390603]\n"
     ]
    }
   ],
   "source": [
    "# run across an H2O symmetric bond stretching surface\n",
    "# 0.5 - 2.0 Angstroms, increments of 0.05, total of 31 geometries\n",
    "# use H-H bond angle 104.5 degrees\n",
    "# save geometry, nuclear charges (same across the surface), and scf energy as lists\n",
    "\n",
    "### THIS DOES NOT PROPERLY SAVE THE PES OF THE FIRST 8 STATES ACROSS 30 GEOMETRIES AT\n",
    "### THIS TIME!  I THINK THERE IS AN ISSUE WITH APPENDING THE POLES DATA TO THE ES ARRAY \n",
    "### AT THIS TIME\n",
    "# set basis\n",
    "psi4.set_options({\n",
    "    'basis':'cc-pVDZ'\n",
    "})\n",
    "\n",
    "n_states = 4\n",
    "n_geoms = 29\n",
    "# initialize geometry list\n",
    "geoms = []\n",
    "\n",
    "# initialize energy list\n",
    "Es = np.zeros((n_states+1, n_geoms))\n",
    "# generate bond lengths\n",
    "rs = []\n",
    "for i in range(0,n_geoms):\n",
    "    rs.append(1.1 + i*0.1)\n",
    "\n",
    "#O\n",
    "#C 1 1.2\n",
    "#H 2 1.1 1 121.85\n",
    "#H 2 1.1 1 121.85 3 180.0\n",
    "# loop over bond lengths\n",
    "\n",
    "# loop over bond lengths\n",
    "ctr = 0\n",
    "for i in rs:\n",
    "    # generate a water molecule using a Z-matrix and set the O-H bond lengths\n",
    "    # generate a water molecule using a Z-matrix and set the O-H bond lengths\n",
    "    mol = psi4.geometry(\"\"\"\n",
    "    Mg\n",
    "    H 1 \"\"\" + str(i) + \"\"\"\n",
    "    symmetry c1\n",
    "    1 1\n",
    "    \"\"\")\n",
    "    # save the geometry\n",
    "    geoms.append(mol.geometry().to_array())\n",
    "    psi4.set_options({\n",
    "    'save_jk': True,\n",
    "    })\n",
    "\n",
    "    \n",
    "\n",
    "    \n",
    "    # calculate and save the energy\n",
    "    #Es.append(psi4.energy('scf'))\n",
    "    e, wfn = psi4.energy(\"PBE0-13/cc-pVDZ\", return_wfn=True, molecule=mol)\n",
    "    \n",
    "    res = tdscf_excitations(wfn, states=4, triplets = \"NONE\")\n",
    "    \n",
    "    # get poles and residues to plot OPA and ECD spectra\n",
    "    poles = [r[\"EXCITATION ENERGY\"] for r in res]\n",
    "    Es[0,ctr] = e\n",
    "    for j in range(0, n_states):\n",
    "        Es[j+1,ctr] = e + poles[j]\n",
    "    print(i, Es[:,ctr])\n",
    "    ctr += 1\n",
    "    \n",
    "#e, wfn = psi4.energy(\"HF/cc-pvdz\", return_wfn=True, molecule=h2o2)\n",
    "#res = tdscf_excitations(wfn, states=10)"
   ]
  },
  {
   "cell_type": "code",
   "execution_count": 8,
   "metadata": {
    "code_folding": []
   },
   "outputs": [
    {
     "name": "stdout",
     "output_type": "stream",
     "text": [
      "1.1 [-200.12835658 -199.8850034  -199.82923906 -199.82923906 -199.69972309]\n",
      "1.2000000000000002 [-200.18371479 -199.94739699 -199.88892028 -199.88892028 -199.75886618]\n",
      "1.3 [-200.21909845 -199.99077106 -199.93036789 -199.93036789 -199.79982795]\n",
      "1.4000000000000001 [-200.24068912 -200.02078599 -199.95902678 -199.95902678 -199.8287337 ]\n",
      "1.5 [-200.25272893 -200.04137215 -199.97868336 -199.97868336 -199.84985234]\n",
      "1.6 [-200.25807961 -200.05516905 -199.99188895 -199.99188895 -199.86597453]\n",
      "1.7000000000000002 [-200.25870407 -200.06395581 -200.00035752 -200.00035752 -199.87880011]\n",
      "1.8000000000000003 [-200.25599563 -200.0689973  -200.00530744 -200.00530744 -199.88930926]\n",
      "1.9000000000000001 [-200.25097277 -200.07123601 -200.00761923 -200.00761923 -199.89805328]\n",
      "2.0 [-200.24439161 -200.07139234 -200.00795006 -200.00795006 -199.90538001]\n",
      "2.1 [-200.23681651 -200.07004194 -200.00680919 -200.00680919 -199.9115687 ]\n",
      "2.2 [-200.22866875 -200.06764264 -200.00459194 -200.00459194 -199.91682783]\n",
      "2.3000000000000003 [-200.22026177 -200.0645675  -200.00160944 -200.00160944 -199.92132727]\n",
      "2.4000000000000004 [-200.21182724 -200.06111258 -199.99810638 -199.99810638 -199.9251885 ]\n",
      "2.5 [-200.20353466 -200.05751961 -199.99427716 -199.99427716 -199.92851877]\n",
      "2.6 [-200.19550615 -200.05397803 -199.99027343 -199.99027343 -199.93140139]\n",
      "2.7 [-200.18782752 -200.05063435 -199.98621317 -199.98621317 -199.93390603]\n",
      "2.8000000000000003 [-200.18055662 -200.04760604 -199.98219276 -199.98219276 -199.9360881 ]\n",
      "2.9000000000000004 [-200.17372933 -200.04497688 -199.97827961 -199.97827961 -199.93798789]\n",
      "3.0 [-200.16736432 -200.04280851 -199.97453122 -199.97453122 -199.93963747]\n",
      "3.1 [-200.16146661 -200.04113749 -199.9709824  -199.9709824  -199.9410572 ]\n",
      "3.2 [-200.15603078 -200.03997878 -199.96765848 -199.96765848 -199.94225644]\n",
      "3.3000000000000003 [-200.15104352 -200.03932974 -199.96456923 -199.96456923 -199.94324653]\n",
      "3.4000000000000004 [-200.14648612 -200.0391701  -199.96172112 -199.96172112 -199.94403721]\n",
      "3.5000000000000004 [-200.14233613 -200.03946665 -199.9591151  -199.9591151  -199.94464452]\n",
      "3.6 [-200.13856912 -200.04017451 -199.95674137 -199.95674137 -199.94507941]\n",
      "3.7 [-200.13515958 -200.04124509 -199.95458897 -199.95458897 -199.94536513]\n",
      "3.8000000000000003 [-200.13208193 -200.04262586 -199.95264503 -199.95264503 -199.94551927]\n",
      "3.9000000000000004 [-200.12931097 -200.04426581 -199.95090009 -199.95090009 -199.94556829]\n"
     ]
    }
   ],
   "source": [
    "# run across an H2O symmetric bond stretching surface\n",
    "# 0.5 - 2.0 Angstroms, increments of 0.05, total of 31 geometries\n",
    "# use H-H bond angle 104.5 degrees\n",
    "# save geometry, nuclear charges (same across the surface), and scf energy as lists\n",
    "\n",
    "### THIS DOES NOT PROPERLY SAVE THE PES OF THE FIRST 8 STATES ACROSS 30 GEOMETRIES AT\n",
    "### THIS TIME!  I THINK THERE IS AN ISSUE WITH APPENDING THE POLES DATA TO THE ES ARRAY \n",
    "### AT THIS TIME\n",
    "# set basis\n",
    "psi4.set_options({\n",
    "    'basis':'cc-pVDZ'\n",
    "})\n",
    "\n",
    "n_states = 4\n",
    "n_geoms = 29\n",
    "# initialize geometry list\n",
    "geoms = []\n",
    "\n",
    "# initialize energy list\n",
    "Es = np.zeros((n_states+1, n_geoms))\n",
    "# generate bond lengths\n",
    "rs = []\n",
    "for i in range(0,n_geoms):\n",
    "    rs.append(1.1 + i*0.1)\n",
    "\n",
    "#O\n",
    "#C 1 1.2\n",
    "#H 2 1.1 1 121.85\n",
    "#H 2 1.1 1 121.85 3 180.0\n",
    "# loop over bond lengths\n",
    "\n",
    "# loop over bond lengths\n",
    "ctr = 0\n",
    "for i in rs:\n",
    "    # generate a water molecule using a Z-matrix and set the O-H bond lengths\n",
    "    # generate a water molecule using a Z-matrix and set the O-H bond lengths\n",
    "    mol = psi4.geometry(\"\"\"\n",
    "    Mg\n",
    "    H 1 \"\"\" + str(i) + \"\"\"\n",
    "    symmetry c1\n",
    "    1 1\n",
    "    \"\"\")\n",
    "    # save the geometry\n",
    "    geoms.append(mol.geometry().to_array())\n",
    "    psi4.set_options({\n",
    "    'save_jk': True,\n",
    "    })\n",
    "\n",
    "    \n",
    "\n",
    "    \n",
    "    # calculate and save the energy\n",
    "    #Es.append(psi4.energy('scf'))\n",
    "    e, wfn = psi4.energy(\"PBE0-13/cc-pVDZ\", return_wfn=True, molecule=mol)\n",
    "    \n",
    "    res = tdscf_excitations(wfn, states=4, triplets = \"NONE\")\n",
    "    \n",
    "    # get poles and residues to plot OPA and ECD spectra\n",
    "    poles = [r[\"EXCITATION ENERGY\"] for r in res]\n",
    "    Es[0,ctr] = e\n",
    "    for j in range(0, n_states):\n",
    "        Es[j+1,ctr] = e + poles[j]\n",
    "    print(i, Es[:,ctr])\n",
    "    ctr += 1\n",
    "    \n",
    "#e, wfn = psi4.energy(\"HF/cc-pvdz\", return_wfn=True, molecule=h2o2)\n",
    "#res = tdscf_excitations(wfn, states=10)"
   ]
  },
  {
   "cell_type": "code",
   "execution_count": 9,
   "metadata": {},
   "outputs": [
    {
     "data": {
      "image/png": "[encoded data removed]",
      "text/plain": [
       "<Figure size 432x288 with 1 Axes>"
      ]
     },
     "metadata": {
      "needs_background": "light"
     },
     "output_type": "display_data"
    }
   ],
   "source": [
    "offset = 200.25870407\n",
    "from matplotlib import pyplot as plt\n",
    "plt.plot(rs[:29], Es[0,:29]*27.211+offset*27.211, 'ro-')\n",
    "plt.plot(rs[:29], Es[1,:29]*27.211+offset*27.211, 'bo-')\n",
    "plt.plot(rs[:29], Es[2,:29]*27.211+offset*27.211, 'go-')\n",
    "plt.plot(rs[:29], Es[4,:29]*27.211+offset*27.211, 'yo-')\n",
    "plt.plot(rs[:29], Es[0,:29]*27.211+offset*27.211+4.3, 'r--')\n",
    "#plt.ylim(7,11)\n",
    "plt.xlim(1.1,3.9)\n",
    "plt.show()"
   ]
  },
  {
   "cell_type": "markdown",
   "metadata": {},
   "source": [
    "- Fit each surface to a spline\n",
    "\n",
    "- Define a photonic Hamiltonian \n",
    "\n",
    "- Define an interaction Hamiltonian\n",
    "\n",
    "- Build H_tot and diagonalize at each geometry"
   ]
  }
 ],
 "metadata": {
  "kernelspec": {
   "display_name": "Python 3",
   "language": "python",
   "name": "python3"
  },
  "language_info": {
   "codemirror_mode": {
    "name": "ipython",
    "version": 3
   },
   "file_extension": ".py",
   "mimetype": "text/x-python",
   "name": "python",
   "nbconvert_exporter": "python",
   "pygments_lexer": "ipython3",
   "version": "3.8.6"
  },
  "latex_envs": {
   "LaTeX_envs_menu_present": true,
   "autoclose": false,
   "autocomplete": true,
   "bibliofile": "biblio.bib",
   "cite_by": "apalike",
   "current_citInitial": 1,
   "eqLabelWithNumbers": true,
   "eqNumInitial": 1,
   "hotkeys": {
    "equation": "Ctrl-E",
    "itemize": "Ctrl-I"
   },
   "labels_anchors": false,
   "latex_user_defs": false,
   "report_style_numbering": true,
   "user_envs_cfg": true
  }
 },
 "nbformat": 4,
 "nbformat_minor": 2
}
