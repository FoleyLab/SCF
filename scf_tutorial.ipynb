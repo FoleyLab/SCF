{
 "cells": [
  {
   "cell_type": "markdown",
   "metadata": {},
   "source": [
    "Read the various data files containing the overlap integrals, electronic kinetic energy integrals,\n",
    "electron-nuclear attraction integrals, and the electron-electron repulsion integrals.\n",
    "\n",
    "The overlap integrals are of the form\n",
    "\\begin{equation}\n",
    "S_{\\mu \\nu} = \\int \\phi_{\\mu}^*({\\bf r}) \\phi_{\\nu}({\\bf r}) d {\\bf r},\n",
    "\\end{equation}\n",
    "where $\\phi_{\\mu}$ and $\\phi_{\\nu}$ label distinct atomic orbitals centered on a given atom center, and \n",
    "${\\bf r}$ is the electronic coordinates of the electron described by the atomic orbital.\n",
    "The electronic kinetic energy integrals are of the form\n",
    "\\begin{equation}\n",
    "T_{\\mu \\nu} = \\int \\phi_{\\mu}^*({\\bf r}) \\left( -\\frac{1}{2} \\nabla_r^2 \\right) \\phi_{\\nu}({\\bf r}) d {\\bf r},\n",
    "\\end{equation}\n",
    "the electron-nuclear attraction integrals are of the form\n",
    "\\begin{equation}\n",
    "V_{\\mu \\nu} = \\int \\phi_{\\mu}^*({\\bf r}) \\left( -\\sum_A^N \\frac{Z_A}{r_A} \\right) \\phi_{\\nu}({\\bf r}) d {\\bf r},\n",
    "\\end{equation}\n",
    "and the electron-electron repulsion integrals are of the form\n",
    "\\begin{equation}\n",
    "V^{\\lambda \\sigma}_{\\mu \\nu} = (\\mu \\nu | \\lambda \\sigma) = \n",
    "\\int \\phi_{\\mu}^*({\\bf r}_1) \\phi_{\\nu}({\\bf r}_1)  -\\frac{1}{r_{12}} \\phi^*_{\\lambda}({\\bf r}_2) \\phi_{\\sigma}({\\bf r}_2)d {\\bf r}_1 d {\\bf r}_2.\n",
    "\\end{equation}\n",
    "\n",
    "In other words, the one-electron quantities (overlap, electron kinetic, and electron-nuclear attraction integrals) can be stored in arrays with 2 indices, and the two-electron quantities (electron-electron repulsion integrals) can be stored in an array with 4 indices.\n",
    "\n",
    "The following functions will help sort the data from the various integral files into 2- and 4-index arrays, as appropriate."
   ]
  },
  {
   "cell_type": "code",
   "execution_count": null,
   "metadata": {},
   "outputs": [],
   "source": [
    "import numpy as np\n",
    "\n",
    "### read the total nuclear repulsion energy, this is just a single number\n",
    "nuc = np.loadtxt(\"enuc.dat\")\n",
    "### read the kinetic energy integrals\n",
    "T    = np.loadtxt(\"T.dat\")\n",
    "### read the electronic-nuclear attraction integrals\n",
    "V1   = np.loadtxt(\"V1.dat\")\n",
    "### read the electron-electron repulsion integrals\n",
    "V2   = np.loadtxt(\"V2.dat\")\n",
    "### read the overlap integrals\n",
    "S    = np.loadtxt(\"S.dat\")"
   ]
  },
  {
   "cell_type": "markdown",
   "metadata": {},
   "source": [
    "The integral files also contained their indices, so the arrays that were created by `np.loadtxt` are not\n",
    "particularly convenient for manipulating the integral data for subsequent SCF (or correlated) calculations.\n",
    "The following two functions will map the integral data to arrays that are ordered by the \n",
    "atomic orbital indices in precisely the way that is incidated in the equations above \n",
    "(except for the fact that the array indexing begins with zero in python).  In otherwords, we would like\n",
    "to have an array `S_mat` that stores the overlap integrals such that element `S_mat[0,1]` corresponds\n",
    "to the overlap integral $S_{1,2}$ in the equation above, an array `V2_mat` that stores the 2-electron\n",
    "repulsion integrals such that element `V2_mat[0,1,2,3]` corresponds to the integral $V_{1,2}^{3,4}$ above, etc.\n"
   ]
  },
  {
   "cell_type": "code",
   "execution_count": 12,
   "metadata": {},
   "outputs": [],
   "source": [
    "def map_1_e_array(dim, mat):\n",
    "    ''' Pass the list that results from reading any\n",
    "        of the 1-electron integral files to this function \n",
    "        and it will return a square matrix where the rows\n",
    "        are ordered by the \\mu index and the columns are \n",
    "        ordered by the \\nu index.  Keep in mind that the data files for\n",
    "        the 1-electron integrals store only the upper-triangle.\n",
    "        dim is the number of basis functions'''\n",
    "    idx = 0\n",
    "    Mmat = np.zeros((dim,dim))\n",
    "    for i in range(0,dim):\n",
    "        for j in range(i,dim):\n",
    "            ival = int(mat[idx,0]-1)\n",
    "            jval = int(mat[idx,1]-1)\n",
    "            Mmat[ival,jval] = mat[idx,2]\n",
    "            Mmat[jval,ival] = mat[idx,2]\n",
    "            idx = idx + 1\n",
    "            \n",
    "    return Mmat\n",
    "\n",
    "\n",
    "def map_2_e_array(length, dim, mat):\n",
    "    ''' Pass the list that results from reading the \n",
    "        2-electron repulsion integral files to this function \n",
    "        and it will return a 4-index square tensor ordered\n",
    "        by \\mu, \\nu, \\lambda, \\sigma.  Keep in mind the data file\n",
    "        only contains the non-zero integrals, and also only symmetry unique integrals \n",
    "        (there are 8 equivalent permutations of the indices, see the permutations below).\n",
    "        length is the number of non-zero two electron elements \n",
    "        and dim is the number of basis functions. '''\n",
    "    Mmat = np.zeros((dim,dim,dim,dim))\n",
    "    for m in range(0, length):\n",
    "        i = int(mat[m,0]-1)\n",
    "        j = int(mat[m,1]-1)\n",
    "        k = int(mat[m,2]-1)\n",
    "        l = int(mat[m,3]-1)\n",
    "        val = mat[m,4]\n",
    "        Mmat[i,j,k,l] = val\n",
    "        Mmat[j,i,k,l] = val\n",
    "        Mmat[i,j,l,k] = val\n",
    "        Mmat[j,i,l,k] = val\n",
    "        Mmat[k,l,i,j] = val\n",
    "        Mmat[l,k,i,j] = val\n",
    "        Mmat[k,l,j,i] = val\n",
    "        Mmat[l,k,j,i] = val\n",
    "        \n",
    "    return Mmat"
   ]
  },
  {
   "cell_type": "markdown",
   "metadata": {},
   "source": [
    "We will call these functions in the cell below to map the initial arrays formed from reading\n",
    "the integral files to arrays that are more amenable to manipulation."
   ]
  },
  {
   "cell_type": "code",
   "execution_count": 17,
   "metadata": {},
   "outputs": [],
   "source": [
    "### get the number of non-zero 2-electron integrals from length of V2 data set\n",
    "v2_length = int(len(V2))\n",
    "### get the number of basis functions from the maximum \\mu index in the\n",
    "### overlap data file\n",
    "dim = int(S[len(S)-1][0])\n",
    "\n",
    "### store overlap integrals in a matrix\n",
    "S_mat = map_1_e_array(dim, S)\n",
    "### store kinetic energy integrals in a matrix\n",
    "T_mat = map_1_e_array(dim, T)\n",
    "### store electron-nuclear attraction integrals in a matrix\n",
    "V1_mat = map_1_e_array(dim, V1)\n",
    "### store 2-electron integrals in a 4-index tensor\n",
    "V2_mat = map_2_e_array(v2_length, dim, V2)"
   ]
  },
  {
   "cell_type": "code",
   "execution_count": null,
   "metadata": {},
   "outputs": [],
   "source": []
  }
 ],
 "metadata": {
  "kernelspec": {
   "display_name": "Python 3",
   "language": "python",
   "name": "python3"
  },
  "language_info": {
   "codemirror_mode": {
    "name": "ipython",
    "version": 3
   },
   "file_extension": ".py",
   "mimetype": "text/x-python",
   "name": "python",
   "nbconvert_exporter": "python",
   "pygments_lexer": "ipython3",
   "version": "3.7.4"
  }
 },
 "nbformat": 4,
 "nbformat_minor": 2
}
