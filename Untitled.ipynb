{
 "cells": [
  {
   "cell_type": "code",
   "execution_count": 1,
   "metadata": {},
   "outputs": [],
   "source": [
    "import numpy as np\n",
    "\n",
    "nuc = np.loadtxt(\"enuc.dat\")\n",
    "T    = np.loadtxt(\"T.dat\")\n",
    "V1   = np.loadtxt(\"V1.dat\")\n",
    "V2   = np.loadtxt(\"V2.dat\")\n",
    "S    = np.loadtxt(\"S.dat\")"
   ]
  },
  {
   "cell_type": "markdown",
   "metadata": {},
   "source": [
    "Read the various data files containing the overlap integrals, electronic kinetic energy integrals,\n",
    "electron-nuclear attraction integrals, and the electron-electron repulsion integrals.\n",
    "\n",
    "The overlap integrals are of the form\n",
    "\\begin{equation}\n",
    "S_{\\mu \\nu} = \\int \\phi_{\\mu}^*({\\bf r}) \\phi_{\\nu}({\\bf r}) d {\\bf r},\n",
    "\\end{equation}\n",
    "where $\\phi_{\\mu}$ and $\\phi_{\\nu}$ label distinct atomic orbitals centered on a given atom center, and \n",
    "${\\bf r}$ is the electronic coordinates of the electron described by the atomic orbital.\n",
    "The electronic kinetic energy integrals are of the form\n",
    "\\begin{equation}\n",
    "T_{\\mu \\nu} = \\int \\phi_{\\mu}^*({\\bf r}) \\left( -\\frac{1}{2} \\nabla_r^2 \\right) \\phi_{\\nu}({\\bf r}) d {\\bf r},\n",
    "\\end{equation}\n",
    "the electron-nuclear attraction integrals are of the form\n",
    "\\begin{equation}\n",
    "V_{\\mu \\nu} = \\int \\phi_{\\mu}^*({\\bf r}) \\left( -\\sum_A^N \\frac{Z_A}{r_A} \\right) \\phi_{\\nu}({\\bf r}) d {\\bf r},\n",
    "\\end{equation}\n",
    "and the electron-electron repulsion integrals are of the form\n",
    "\\begin{equation}\n",
    "V^{\\lambda \\sigma}_{\\mu \\nu} = (\\mu \\nu | \\lambda \\sigma) = \n",
    "\\int \\phi_{\\mu}^*({\\bf r}_1) \\phi_{\\nu}({\\bf r}_1)  -\\frac{1}{r_{12}} \\phi^*_{\\lambda}({\\bf r}_2) \\phi_{\\sigma}({\\bf r}_2)d {\\bf r}_1 d {\\bf r}_2,\n",
    "\\end{equation}"
   ]
  },
  {
   "cell_type": "code",
   "execution_count": 3,
   "metadata": {},
   "outputs": [],
   "source": [
    "def Map1EArray(dim, mat):\n",
    "    idx = 0\n",
    "    Mmat = np.zeros((dim,dim))\n",
    "    for i in range(0,dim):\n",
    "        for j in range(i,dim):\n",
    "            ival = int(mat[idx][0]-1)\n",
    "            jval = int(mat[idx][1]-1)\n",
    "            Mmat[ival][jval] = mat[idx][2]\n",
    "            Mmat[jval][ival] = mat[idx][2]\n",
    "            idx = idx + 1\n",
    "            \n",
    "    return Mmat\n",
    "\n",
    "\n",
    "def Map2EArray(length, dim, mat):\n",
    "    Mmat = np.zeros((dim,dim,dim,dim))\n",
    "    for m in range(0, length):\n",
    "        i = int(mat[m][0]-1)\n",
    "        j = int(mat[m][1]-1)\n",
    "        k = int(mat[m][2]-1)\n",
    "        l = int(mat[m][3]-1)\n",
    "        val = mat[m][4]\n",
    "        Mmat[i][j][k][l] = val\n",
    "        Mmat[j][i][k][l] = val\n",
    "        Mmat[i][j][l][k] = val\n",
    "        Mmat[j][i][l][k] = val\n",
    "        Mmat[k][l][i][j] = val\n",
    "        Mmat[l][k][i][j] = val\n",
    "        Mmat[k][l][j][i] = val\n",
    "        Mmat[l][k][j][i] = val\n",
    "        \n",
    "    return Mmat"
   ]
  },
  {
   "cell_type": "code",
   "execution_count": null,
   "metadata": {},
   "outputs": [],
   "source": []
  }
 ],
 "metadata": {
  "kernelspec": {
   "display_name": "Python 3",
   "language": "python",
   "name": "python3"
  },
  "language_info": {
   "codemirror_mode": {
    "name": "ipython",
    "version": 3
   },
   "file_extension": ".py",
   "mimetype": "text/x-python",
   "name": "python",
   "nbconvert_exporter": "python",
   "pygments_lexer": "ipython3",
   "version": "3.7.4"
  }
 },
 "nbformat": 4,
 "nbformat_minor": 2
}
