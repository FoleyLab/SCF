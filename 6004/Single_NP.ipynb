{
 "cells": [
  {
   "cell_type": "code",
   "execution_count": null,
   "metadata": {},
   "outputs": [],
   "source": []
  },
  {
   "cell_type": "markdown",
   "metadata": {},
   "source": []
  },
  {
   "cell_type": "code",
   "execution_count": 1,
   "metadata": {},
   "outputs": [],
   "source": [
    "from matplotlib import pyplot as plt\n",
    "import numpy as np\n",
    "from numpy import linalg as LA\n",
    "import math\n",
    "def RK4(H0, mu, Vint, gamma, D, h, t, tau):\n",
    "    k1 = np.zeros_like(D)\n",
    "    k2 = np.zeros_like(D)\n",
    "    k3 = np.zeros_like(D)\n",
    "    k4 = np.zeros_like(D)\n",
    "    D1 = np.zeros_like(D)\n",
    "    D2 = np.zeros_like(D)\n",
    "    D3 = np.zeros_like(D)\n",
    "    D4 = np.zeros_like(D)\n",
    "    Df = np.zeros_like(D)\n",
    "    \n",
    "    ### Get k1\n",
    "    H1 = H0 - EField(t, tau)*mu + Vint\n",
    "    D1 = np.copy(D)    \n",
    "    k1 = h*Liouville(H1,D1) + h*Lindblad(D1, gamma)\n",
    "    \n",
    "    ## Update H and D and get k2\n",
    "    H2 = H0 - EField(t+h/2, tau)*mu + Vint\n",
    "    D2 = D+k1/2.\n",
    "    k2 = h*Liouville(H2, D2) + h*Lindblad(D2, gamma)\n",
    "    \n",
    "    ### UPdate H and D and get k3\n",
    "    H3 = H2\n",
    "    D3 = D+k2/2\n",
    "    k3 = h*Liouville(H3, D3) + h*Lindblad(D3, gamma) \n",
    "    \n",
    "    ### Update H and D and get K4\n",
    "    H4 = H0 - EField(t+h, tau)*mu + Vint\n",
    "    D4 = D+k3\n",
    "    k4 = h*Liouville(H4, D4) + h*Lindblad(D4, gamma)\n",
    "    \n",
    "    Df = D + (1/6.)*(k1 + 2.*k2 + 2*k3 + k4)\n",
    "    return Df\n",
    "\n",
    "def Lindblad(D, gamma):\n",
    "    dim = len(D)\n",
    "    LD = np.zeros_like(D)\n",
    "    ### need |g><g|\n",
    "    bra_1 = CreateBas(dim, 0)\n",
    "    gm = Form_Rho(bra_1)\n",
    "    \n",
    "    for k in range(1,dim):\n",
    "        bra_k = CreateBas(dim, k)\n",
    "        km = Form_Rho(bra_k)\n",
    "        \n",
    "        ### first term 2*gam*<k|D|k>|g><g|\n",
    "        t1 = 2*gamma*D[k][k]*gm\n",
    "        ### second term is |k><k|*D\n",
    "        t2 = np.dot(km,D)\n",
    "        ### third term is  D*|k><k|\n",
    "        t3 = np.dot(D, km)\n",
    "        LD = LD + t1 - gamma*t2 - gamma*t3\n",
    "        \n",
    "    return LD\n",
    "\n",
    "### Take commutator of H and D to give Ddot\n",
    "def Liouville(H, D):\n",
    "    ci = 0.+1j\n",
    "    return -ci*(np.dot(H,D) - np.dot(D, H))\n",
    "\n",
    "def EField(t, tau):\n",
    "    Ef = 0.\n",
    "    if t<tau:\n",
    "        Ef = 0.0001*np.sin(t*np.pi/tau)*np.sin(t*np.pi/tau)*np.sin(0.09628*t)\n",
    "    \n",
    "    #Ef = 0.00001*np.sin(0.1192*t)\n",
    "    #Ef = 0.\n",
    "    #if t<tau:\n",
    "    #    Ef = 0.001*np.sin(t*np.pi/tau)*np.sin(t*np.pi/tau)*np.sin(0.1192*t)\n",
    "    return Ef\n",
    "\n",
    "def EField_Low(t, tau):\n",
    "    Ef = 0.\n",
    "    if t<tau:\n",
    "        Ef = 0.0001*np.sin(t*np.pi/tau)*np.sin(t*np.pi/tau)*np.sin(0.08672*t)\n",
    "    \n",
    "    #Ef = 0.00001*np.sin(0.1192*t)\n",
    "    #Ef = 0.\n",
    "    #if t<tau:\n",
    "    #    Ef = 0.001*np.sin(t*np.pi/tau)*np.sin(t*np.pi/tau)*np.sin(0.1192*t)\n",
    "    return Ef\n",
    "\n",
    "\n",
    "def Form_Rho(Psi):\n",
    "\n",
    "    D = np.outer(Psi,np.conj(Psi))\n",
    "    return D\n",
    "\n",
    "### Creates basis vector for state k\n",
    "### k=0 -> ground state, k=1 -> first excited-state, etc\n",
    "def CreateBas(dim, k):\n",
    "    bas = np.zeros(dim)\n",
    "    bas[k] = 1\n",
    "    return bas\n",
    "\n"
   ]
  },
  {
   "cell_type": "code",
   "execution_count": 15,
   "metadata": {},
   "outputs": [
    {
     "ename": "NameError",
     "evalue": "name 'EField_Low' is not defined",
     "output_type": "error",
     "traceback": [
      "\u001b[0;31m---------------------------------------------------------------------------\u001b[0m",
      "\u001b[0;31mNameError\u001b[0m                                 Traceback (most recent call last)",
      "\u001b[0;32m<ipython-input-15-3ea419bd6d9d>\u001b[0m in \u001b[0;36m<module>\u001b[0;34m\u001b[0m\n\u001b[1;32m     34\u001b[0m     \u001b[0mtime\u001b[0m\u001b[0;34m[\u001b[0m\u001b[0mi\u001b[0m\u001b[0;34m]\u001b[0m \u001b[0;34m=\u001b[0m \u001b[0mi\u001b[0m\u001b[0;34m*\u001b[0m\u001b[0mdt\u001b[0m\u001b[0;34m\u001b[0m\u001b[0;34m\u001b[0m\u001b[0m\n\u001b[1;32m     35\u001b[0m     \u001b[0mez_high\u001b[0m\u001b[0;34m[\u001b[0m\u001b[0mi\u001b[0m\u001b[0;34m]\u001b[0m \u001b[0;34m=\u001b[0m \u001b[0mEField\u001b[0m\u001b[0;34m(\u001b[0m\u001b[0mi\u001b[0m\u001b[0;34m*\u001b[0m\u001b[0mdt\u001b[0m\u001b[0;34m,\u001b[0m \u001b[0mtau\u001b[0m\u001b[0;34m)\u001b[0m\u001b[0;34m*\u001b[0m\u001b[0mE_au_to_si\u001b[0m\u001b[0;34m\u001b[0m\u001b[0;34m\u001b[0m\u001b[0m\n\u001b[0;32m---> 36\u001b[0;31m     \u001b[0mez_low\u001b[0m\u001b[0;34m[\u001b[0m\u001b[0mi\u001b[0m\u001b[0;34m]\u001b[0m \u001b[0;34m=\u001b[0m \u001b[0mEField_Low\u001b[0m\u001b[0;34m(\u001b[0m\u001b[0mi\u001b[0m\u001b[0;34m*\u001b[0m\u001b[0mdt\u001b[0m\u001b[0;34m,\u001b[0m \u001b[0mtau\u001b[0m\u001b[0;34m)\u001b[0m\u001b[0;34m*\u001b[0m\u001b[0mE_au_to_si\u001b[0m\u001b[0;34m\u001b[0m\u001b[0;34m\u001b[0m\u001b[0m\n\u001b[0m\u001b[1;32m     37\u001b[0m     \u001b[0;31m#D = RK4(H0, MUZ, Vint, gamma, D, dt, dt*i, tau)\u001b[0m\u001b[0;34m\u001b[0m\u001b[0;34m\u001b[0m\u001b[0;34m\u001b[0m\u001b[0m\n\u001b[1;32m     38\u001b[0m     \u001b[0;31m#DMU = np.matmul(D, MUZ)\u001b[0m\u001b[0;34m\u001b[0m\u001b[0;34m\u001b[0m\u001b[0;34m\u001b[0m\u001b[0m\n",
      "\u001b[0;31mNameError\u001b[0m: name 'EField_Low' is not defined"
     ]
    }
   ],
   "source": [
    "dt = 0.01\n",
    "tau = 413.\n",
    "#gamma = 0.0017\n",
    "gamma = 0.005512\n",
    "eps0 = 8.854e-12\n",
    "mu_au_to_si = 8.47835326e-30\n",
    "E_au_to_si = 5.14220652e11\n",
    "\n",
    "#mu_z = 58.\n",
    "mu_z = 176.356700\n",
    "MUZ= np.zeros((2,2),dtype=complex)\n",
    "Vint = np.zeros((2,2),dtype=complex)\n",
    "D = np.zeros((2,2),dtype=complex)\n",
    "H0 = np.zeros((2,2))\n",
    "\n",
    "#H0[1][1] = 0.1275\n",
    "H0[1][1] = 0.075042\n",
    "D[0][0] = 1.+0j\n",
    "MUZ[0][1] = mu_z\n",
    "MUZ[1][0] = mu_z\n",
    "\n",
    "Nsteps = 1000000\n",
    "ez_low = np.zeros(Nsteps)\n",
    "ez_high = np.zeros(Nsteps)\n",
    "\n",
    "mu_of_t = np.zeros(Nsteps,dtype=complex)\n",
    "time = np.zeros(Nsteps)\n",
    "energy = np.zeros(Nsteps)\n",
    "\n",
    "\n",
    "\n",
    "for i in range(0,Nsteps):\n",
    "    energy[i] = np.pi*2*(i+1)/(Nsteps*dt)\n",
    "    time[i] = i*dt\n",
    "    ez_high[i] = EField(i*dt, tau)*E_au_to_si\n",
    "    ez_low[i] = EField_Low(i*dt, tau)*E_au_to_si\n",
    "    #D = RK4(H0, MUZ, Vint, gamma, D, dt, dt*i, tau)\n",
    "    #DMU = np.matmul(D, MUZ)\n",
    "    #mu_of_t[i] = (DMU[0][0] + DMU[1][1])*mu_au_to_si\n",
    "\n",
    "\n",
    "#mu_freq = np.fft.fft(mu_of_t)/(Nsteps)\n",
    "#ez_freq = np.fft.fft(ez)/(Nsteps)\n",
    "#alpha = mu_freq/ez_freq\n",
    "#alpha = np.fft.fft(mu_of_t)/np.fft.fft(ez)\n",
    "#lam = 1e-9*1240/(energy*27.211) ### in nm\n",
    "\n",
    "#sigma = 2*np.pi/(lam*eps0) * np.imag(alpha)\n",
    "#plt.plot(energy*27.211, sigma, 'red')\n",
    "#plt.plot(1240/(sphere.lambda_array*1e9), sigma_abs, 'b--')\n",
    "#plt.xlim(1.5,4.0)\n",
    "#plt.ylim(0,1e-16)\n",
    "#plt.plot(time, ez, 'red', time, mu_of_t, 'blue')\n",
    "#plt.show()\n"
   ]
  },
  {
   "cell_type": "code",
   "execution_count": 16,
   "metadata": {},
   "outputs": [
    {
     "data": {
      "image/png": "[encoded data removed]",
      "text/plain": [
       "<Figure size 432x288 with 1 Axes>"
      ]
     },
     "metadata": {
      "needs_background": "light"
     },
     "output_type": "display_data"
    }
   ],
   "source": [
    "### omega below will be in atomic units... use this to convert to SI units (i.e. s^-1)\n",
    "omega_au = 4.134147e+16\n",
    "plt.plot(time*0.024, ez_low)\n",
    "plt.plot(time*0.024, ez_high)\n",
    "plt.xlim(0,50)\n",
    "plt.show()\n",
    "dipole = np.zeros(2*Nsteps,dtype=complex)\n",
    "efield_low = np.zeros(2*Nsteps,dtype=complex)\n",
    "efield_high = np.zeros(2*Nsteps,dtype=complex\n",
    "                      )\n",
    "nps = np.zeros(2*Nsteps,dtype=complex)\n",
    "efls = np.zeros(2*Nsteps,dtype=complex)\n",
    "efhs = np.zeros(2*Nsteps,dtype=complex)\n",
    "ome = np.zeros(2*Nsteps)\n",
    "alpha = np.zeros(2*Nsteps,dtype=complex)\n",
    "sigma_abs = np.zeros(2*Nsteps)\n",
    "for i in range(0,Nsteps):\n",
    "    #dipole[i] = mu_of_t[i]\n",
    "    efield_low[i] = ez_low[i]\n",
    "    efield_high[i] = ez_high[i]\n",
    "\n",
    "#for i in range(0,2*Nsteps):\n",
    "#    ome[i] = 2*np.pi*i/(2*Nsteps*dt)\n",
    "    "
   ]
  },
  {
   "cell_type": "code",
   "execution_count": 4,
   "metadata": {},
   "outputs": [],
   "source": [
    "\n",
    "\n",
    "nps = np.fft.fft(dipole)\n",
    "efs = np.fft.fft(efield)\n",
    "for i in range(0,2*Nsteps):\n",
    "    omega_si = ome[i]*omega_au\n",
    "    k = omega_si/2.99792458e+8\n",
    "    sig_pre = k/(8.854187e-12)\n",
    "    alpha[i] = nps[i]/efs[i]\n",
    "    sigma_abs[i] = sig_pre * np.imag(alpha[i])\n",
    "#ez_freq = np.fft.fft(ez)/(Nsteps)"
   ]
  },
  {
   "cell_type": "code",
   "execution_count": 10,
   "metadata": {},
   "outputs": [
    {
     "data": {
      "text/plain": [
       "(1, 3)"
      ]
     },
     "execution_count": 10,
     "metadata": {},
     "output_type": "execute_result"
    },
    {
     "data": {
      "image/png": "[encoded data removed]",
      "text/plain": [
       "<Figure size 432x288 with 1 Axes>"
      ]
     },
     "metadata": {
      "needs_background": "light"
     },
     "output_type": "display_data"
    }
   ],
   "source": [
    "plt.plot(ome*27.211, np.abs(efs))\n",
    "plt.xlim(1,3)\n",
    "#plt.ylim(0,1e-16)"
   ]
  },
  {
   "cell_type": "code",
   "execution_count": null,
   "metadata": {},
   "outputs": [],
   "source": []
  }
 ],
 "metadata": {
  "kernelspec": {
   "display_name": "Python 3",
   "language": "python",
   "name": "python3"
  },
  "language_info": {
   "codemirror_mode": {
    "name": "ipython",
    "version": 3
   },
   "file_extension": ".py",
   "mimetype": "text/x-python",
   "name": "python",
   "nbconvert_exporter": "python",
   "pygments_lexer": "ipython3",
   "version": "3.6.8"
  }
 },
 "nbformat": 4,
 "nbformat_minor": 2
}
