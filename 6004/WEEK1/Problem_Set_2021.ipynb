{
 "cells": [
  {
   "cell_type": "markdown",
   "metadata": {},
   "source": [
    "**Problems for Quantum Materials Chemistry – Due Friday, March 13th at 4:00 pm**\n",
    "A 1-time 10 point deduction will be made for problem sets submitted after 4:00 pm on Friday, March 8th.  \n",
    "\n",
    "Each question is worth 20 points.\n",
    "\n",
    "You are expected to adhere to the collaboration policy described in the syllabus.  As such, if you discuss strategies for solving problems with other students, you must declare this in the problem set solution you submit.  Sharing solutions with other students does not constitute acceptable collaboration, even if declared, and will be treated as academic dishonesty.\n"
   ]
  },
  {
   "cell_type": "markdown",
   "metadata": {},
   "source": [
    "1.  Consider an electron in a 1-D box of length $L=1$ nm that has energy eigenstates given by \n",
    "\\begin{equation}\n",
    "\\psi_n(x) = \\sqrt{2} {\\rm sin}(n \\pi x)\n",
    "\\end{equation}\n",
    "when $x$ has units of nanometers.  Now consider that an atomically-precise hammer is used to deform the bottom of the box such that the electron feels an effective potential given by \n",
    "\\begin{equation}\n",
    "V(x) = V(x)= -2(x-0.5)^3+0.5.\n",
    "\\end{equation}\n",
    "\n",
    "    a.  Compute the energy expectation value of an electron described by $\\psi_1(x)$ after the box is deformed.\n",
    "\n",
    "    b.  Explain if you think the original energy eigenstates, $\\psi_n(x)$, are stationary \n",
    "states in the deformed box.  \n"
   ]
  },
  {
   "cell_type": "markdown",
   "metadata": {},
   "source": [
    "2.  Considering the modified box in Question 1, write down the Hamiltonian operator after the box has been modified.  Using this Hamiltonian, use the linear variational method and a basis of the first 10 energy eigenstates of the ordinary particle in a box to estimate the ground state energy of the modified system."
   ]
  },
  {
   "cell_type": "markdown",
   "metadata": {},
   "source": [
    "3.  Considering the modified box in Question 1, compute the first-order correction to the ground-state energy eigenfunction and the 2nd-order correction to the ground-state energy according to perturbation theory.  The general expression for the first-order correction to the energy eigenfunctions is\n",
    "\n",
    "\\begin{equation}\n",
    "|\\psi_n^{(1)}(x) \\rangle = \\sum_{m \\neq n} \\frac{\\langle \\psi_m^{(0)}(x) | V(x) |\\psi_n^{(0)}(x) \\rangle }{E_n^{(0)} - E_m^{(0)}} |\\psi_m^{(0)}(x) \\rangle,\n",
    "\\end{equation}\n",
    "\n",
    "and the general expression for the second-order correction to the energy eigenvalues is\n",
    "\n",
    "\\begin{equation}\n",
    "E_n^{(2)} = \\sum_{m \\neq n} \\frac{|\\langle \\psi_m^{(0)}(x) | V(x) | \\psi_n^{(0)}(x) \\rangle|^2}{E_n^{(0)} - E_m^{(0)}}.\n",
    "\\end{equation}\n",
    "\n",
    "Once again, use the first 10 energy eigenstates of the ordinary particle in a box in these expressions and\n",
    "\n",
    "  a. Plot the first-order corrected ground-state wavefunction against the unperturbed ground-state and the \n",
    "  variational ground-state\n",
    "  \n",
    "  b.  Compare the second-order corrected ground-state energy against the unperturbed ground-state energy and the variational energy."
   ]
  },
  {
   "cell_type": "markdown",
   "metadata": {},
   "source": [
    "4. Use the following function as a trial wavefunction for the particle-in-a-box groundstate:\n",
    "\\begin{equation}\n",
    "\\phi(x) = c_1 x (L - x) + c_2 x (L-x)^2 + c_3 x^4(L-x) + c_4 x^2(L-x)^2.\n",
    "\\end{equation}\n",
    "Compare the energy expectation value of $\\phi(x)$ to $\\psi_1(x)$, the true ground state of the particle in a box of length $L$.  Discuss whether or not this result is consistent with the Variational principle."
   ]
  },
  {
   "cell_type": "markdown",
   "metadata": {},
   "source": [
    "5.  The energy expression for second-order Moller-Plesset Perturbation Theory is \n",
    "\\begin{equation}\n",
    "E_{MP2} = 2 \\sum_{i,j,a,b}^N \\frac{\\langle ij | V | ab \\rangle \\langle ab | V | ij \\rangle}{\\epsilon_i + \\epsilon_j - \\epsilon_a - \\epsilon_b} - \\sum_{i,j,a,b}^N \\frac{\\langle ij | V | ab \\rangle \\langle ab | V | ji \\rangle}{\\epsilon_i + \\epsilon_j - \\epsilon_a - \\epsilon_b}\n",
    "\\end{equation}\n",
    "where $N$ is the number of molecular orbitals, $\\epsilon_p$ is the molecular orbital energy\n",
    "of orbital $p$, and $\\langle pq | V | rs \\rangle$ is the 2-electron integral\n",
    "involving orbitals $\\phi_p, \\phi_q, \\phi_r$, and $\\phi_s$.  \n",
    "\n",
    "**Explain how the computational cost of evaluating the MP2 energy scales with the number of molecular orbitals.**  "
   ]
  }
 ],
 "metadata": {
  "kernelspec": {
   "display_name": "Python 3",
   "language": "python",
   "name": "python3"
  },
  "language_info": {
   "codemirror_mode": {
    "name": "ipython",
    "version": 3
   },
   "file_extension": ".py",
   "mimetype": "text/x-python",
   "name": "python",
   "nbconvert_exporter": "python",
   "pygments_lexer": "ipython3",
   "version": "3.8.5"
  }
 },
 "nbformat": 4,
 "nbformat_minor": 2
}
