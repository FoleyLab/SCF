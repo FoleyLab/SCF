{
 "cells": [
  {
   "cell_type": "markdown",
   "metadata": {},
   "source": [
    "Use numpy to create an array of 100 x-values between 0 and $L$, where $L$ is defined to be 10 (in atomic units).  Call this array $x$."
   ]
  },
  {
   "cell_type": "code",
   "execution_count": 2,
   "metadata": {},
   "outputs": [],
   "source": [
    "import numpy as np"
   ]
  },
  {
   "cell_type": "markdown",
   "metadata": {},
   "source": [
    "Use the built-in numpy functions `np.sqrt()` and `np.sin()`, along with the built-in constant `np.pi`, to create an array of ground-state wavefunction values for the particle-in-a-box of length $L=10$ atomic units,\n",
    "\\begin{equation}\n",
    "\\psi_1(x) = \\sqrt{\\frac{2}{L}} {\\rm sin}\\left(\\frac{ \\pi x}{L}\\right).\n",
    "\\end{equation}\n",
    "Call this array psi_x"
   ]
  },
  {
   "cell_type": "code",
   "execution_count": null,
   "metadata": {},
   "outputs": [],
   "source": []
  },
  {
   "cell_type": "markdown",
   "metadata": {},
   "source": [
    "Use the plotting capabilities of the library matplotlib to plot $\\psi_1(x)$ vs $x$."
   ]
  },
  {
   "cell_type": "code",
   "execution_count": 1,
   "metadata": {},
   "outputs": [],
   "source": [
    "from matplotlib import pyplot as plt\n",
    "\n",
    "### create plot object by issuing the command plt.plot(x_data, y_data) w\n",
    "### where x_data is the name of the array that contains your x-values and y_data is the name of\n",
    "### the array that contains your y-values.\n"
   ]
  },
  {
   "cell_type": "markdown",
   "metadata": {},
   "source": [
    "Evaluate (by hand)\n",
    "\\begin{equation}\n",
    "\\hat{H} \\psi_1(x)\n",
    "\\end{equation}\n",
    "where in atomic units,\n",
    "\\begin{equation}\n",
    "\\hat{H} = \\frac{-1}{2} \\frac{d^2}{dx^2}.\n",
    "\\end{equation}\n",
    "\n",
    "You should obtain as a result $E_1 \\psi_1(x)$.  Plot both \n",
    "$\\psi_1(x)$ against $x$ and $E_1 \\psi_1(x)$ against $x$.\n"
   ]
  },
  {
   "cell_type": "code",
   "execution_count": null,
   "metadata": {},
   "outputs": [],
   "source": []
  },
  {
   "cell_type": "markdown",
   "metadata": {},
   "source": [
    "Now imagine that an electric potential has been applied to your box, such that the Hamiltonian operator can now be written like:\n",
    "\\begin{equation}\n",
    "\\hat{H}_p = \\frac{-1}{2} \\frac{d^2}{dx^2} + \\frac{1}{2} x.\n",
    "\\end{equation}\n",
    "Evaluate $\\hat{H}_p \\psi_1(x)$ and plot the result against $x$ so that you can compare \n",
    "the plot to both $\\psi_1(x)$ vs $x$ and $E_1 \\psi_1(x)$ vs $x$.\n",
    "\n",
    "Hint: Create a numpy array that models the electric potential\n",
    "`Vx = 1/2. * x`\n",
    "so that you can basically create an array called `Hp_on_psi` that is mathematically equal to \n",
    "\\begin{equation}\n",
    "\\hat{H}_p \\psi_1(x) = E_1 \\psi_1(x) + \\frac{1}{2}x \\psi_1(x).\n",
    "\\end{equation}"
   ]
  },
  {
   "cell_type": "code",
   "execution_count": null,
   "metadata": {},
   "outputs": [],
   "source": []
  }
 ],
 "metadata": {
  "kernelspec": {
   "display_name": "Python 3",
   "language": "python",
   "name": "python3"
  },
  "language_info": {
   "codemirror_mode": {
    "name": "ipython",
    "version": 3
   },
   "file_extension": ".py",
   "mimetype": "text/x-python",
   "name": "python",
   "nbconvert_exporter": "python",
   "pygments_lexer": "ipython3",
   "version": "3.6.10"
  }
 },
 "nbformat": 4,
 "nbformat_minor": 2
}
